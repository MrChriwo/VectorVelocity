{
 "cells": [
  {
   "cell_type": "code",
   "execution_count": 1,
   "metadata": {},
   "outputs": [],
   "source": [
    "from gym_env.test import test_environment\n",
    "from gym_env.env import VVEnv"
   ]
  },
  {
   "cell_type": "code",
   "execution_count": 2,
   "metadata": {},
   "outputs": [
    {
     "name": "stdout",
     "output_type": "stream",
     "text": [
      "Episode 1 finished with total reward: -900\n",
      "Episode 2 finished with total reward: -1000\n",
      "Episode 3 finished with total reward: -1000\n",
      "Episode 4 finished with total reward: -1000\n",
      "Episode 5 finished with total reward: -1000\n"
     ]
    }
   ],
   "source": [
    "env = VVEnv(mode=\"agent\")\n",
    "test_environment(env=env, episodes=5)"
   ]
  }
 ],
 "metadata": {
  "kernelspec": {
   "display_name": "Python 3",
   "language": "python",
   "name": "python3"
  },
  "language_info": {
   "codemirror_mode": {
    "name": "ipython",
    "version": 3
   },
   "file_extension": ".py",
   "mimetype": "text/x-python",
   "name": "python",
   "nbconvert_exporter": "python",
   "pygments_lexer": "ipython3",
   "version": "3.11.5"
  }
 },
 "nbformat": 4,
 "nbformat_minor": 2
}
